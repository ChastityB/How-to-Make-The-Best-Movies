{
 "cells": [
  {
   "cell_type": "markdown",
   "id": "8dff99ab-497e-40d5-83d2-eeadb703e3b1",
   "metadata": {},
   "source": [
    "# IMDB File Structure for Deployment"
   ]
  },
  {
   "cell_type": "markdown",
   "id": "9979a184-31b0-47fa-882c-01072330e09a",
   "metadata": {},
   "source": [
    "Purpose of this notebook is to create a file structure for deployment for the IMDB data. This will faciliate calling saved training data, testing data, and models."
   ]
  },
  {
   "cell_type": "code",
   "execution_count": 1,
   "id": "7c7e169f-688b-488f-b4a0-b7c5ead346ec",
   "metadata": {},
   "outputs": [],
   "source": [
    "#import needed libraries\n",
    "from pprint import pprint\n",
    "import os, json"
   ]
  },
  {
   "cell_type": "code",
   "execution_count": 2,
   "id": "38ee00eb-5cdc-452b-8539-3576e72a0e41",
   "metadata": {},
   "outputs": [],
   "source": [
    "#create directories function\n",
    "def create_directories_from_paths(nested_dict):\n",
    "    \"\"\"OpenAI. (2023). ChatGPT [Large language model]. https://chat.openai.com \n",
    "    Recursively create directories for file paths in a nested dictionary.\n",
    "\n",
    "    Parameters:\n",
    "    nested_dict (dict): The nested dictionary containing file paths.\n",
    "    \"\"\"\n",
    "    for key, value in nested_dict.items():\n",
    "        if isinstance(value, dict):\n",
    "            # If the value is a dictionary, recurse into it\n",
    "            create_directories_from_paths(value)\n",
    "        elif isinstance(value, str):\n",
    "            # If the value is a string, treat it as a file path and get the directory path\n",
    "            directory_path = os.path.dirname(value)\n",
    "            # If the directory path is not empty and the directory does not exist, create it\n",
    "            if directory_path and not os.path.exists(directory_path):\n",
    "                os.makedirs(directory_path)\n",
    "                print(f\"Directory created: {directory_path}\")"
   ]
  },
  {
   "cell_type": "code",
   "execution_count": 3,
   "id": "9de93391-4eb2-405c-8c93-1593dccab98e",
   "metadata": {},
   "outputs": [
    {
     "name": "stdout",
     "output_type": "stream",
     "text": [
      "{'data': {'ml': {'test': 'Data-NLP/ml/test-data.joblib',\n",
      "                 'train': 'Data-NLP/ml/train-data.joblib'},\n",
      "          'processed': 'Data-NLP/processed-data-no-html.joblib',\n",
      "          'tf': {'test_tf': 'Data-NLP/nn/test',\n",
      "                 'train_tf': 'Data-NLP/nn/train'}},\n",
      " 'images': {'TMDBLogo': 'Images/TMDBLogo.svg',\n",
      "            'TheMovieDBLogo': 'Images/TheMovieDBLogo.svg',\n",
      "            'freqdist-lemmas': 'Images/FreqDist-Lemmas.png',\n",
      "            'freqdist-tokens': 'Images/FreqDist-Tokens.png',\n",
      "            'wordcloud-lemmas': 'Images/WordCloud-Joined-Lemmas.png',\n",
      "            'wordcloud-tokens': 'Images/WordCloud-Joined-Tokens.png'},\n",
      " 'models': {'gru': 'Models/nn/gru',\n",
      "            'logreg': 'Models/ml/best-ml-logreg-model.joblib'}}\n"
     ]
    }
   ],
   "source": [
    "#define file paths\n",
    "FPATHS = dict(\n",
    "    data={\n",
    "        'processed': 'Data-NLP/processed-data-no-html.joblib',\n",
    "        'ml':{\n",
    "            'train': 'Data-NLP/ml/train-data.joblib',\n",
    "            'test': 'Data-NLP/ml/test-data.joblib'},\n",
    "        'tf':{\n",
    "            'train_tf':'Data-NLP/nn/train',\n",
    "            'test_tf': 'Data-NLP/nn/test'}\n",
    "    },\n",
    "    images={\n",
    "        'wordcloud-lemmas': 'Images/WordCloud-Joined-Lemmas.png',\n",
    "        'wordcloud-tokens': 'Images/WordCloud-Joined-Tokens.png',\n",
    "        'freqdist-lemmas': 'Images/FreqDist-Lemmas.png',\n",
    "        'freqdist-tokens': 'Images/FreqDist-Tokens.png',\n",
    "        'TheMovieDBLogo': 'Images/TheMovieDBLogo.svg',\n",
    "        'TMDBLogo': 'Images/TMDBLogo.svg'\n",
    "    },\n",
    "    models={\n",
    "        'logreg':'Models/ml/best-ml-logreg-model.joblib',\n",
    "        'gru': 'Models/nn/gru'\n",
    "    },\n",
    ")\n",
    "pprint(FPATHS)"
   ]
  },
  {
   "cell_type": "code",
   "execution_count": 4,
   "id": "43303284-fc40-4fbf-a334-8d7d3f4f3d5f",
   "metadata": {},
   "outputs": [],
   "source": [
    "#save the filepaths\n",
    "os.makedirs('config/', exist_ok=True)\n",
    "PATHS_FILE = 'config/filepaths.json'\n",
    "with open (PATHS_FILE, 'w') as f:\n",
    "    json.dump(FPATHS, f)"
   ]
  },
  {
   "cell_type": "code",
   "execution_count": 5,
   "id": "1d1417f7-6ab6-4a5d-9b66-913ae90de3fd",
   "metadata": {},
   "outputs": [],
   "source": [
    "#run the function\n",
    "create_directories_from_paths(FPATHS)"
   ]
  }
 ],
 "metadata": {
  "kernelspec": {
   "display_name": "Python (dojo-env)",
   "language": "python",
   "name": "dojo-env"
  },
  "language_info": {
   "codemirror_mode": {
    "name": "ipython",
    "version": 3
   },
   "file_extension": ".py",
   "mimetype": "text/x-python",
   "name": "python",
   "nbconvert_exporter": "python",
   "pygments_lexer": "ipython3",
   "version": "3.10.10"
  },
  "widgets": {
   "application/vnd.jupyter.widget-state+json": {
    "state": {},
    "version_major": 2,
    "version_minor": 0
   }
  }
 },
 "nbformat": 4,
 "nbformat_minor": 5
}
